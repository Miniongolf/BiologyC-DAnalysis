{
 "cells": [
  {
   "cell_type": "markdown",
   "metadata": {},
   "source": [
    "### Imports"
   ]
  },
  {
   "cell_type": "code",
   "execution_count": null,
   "metadata": {},
   "outputs": [],
   "source": [
    "import pandas as pd\n",
    "\n",
    "bC = pd.read_csv(\"beforeCounts.csv\")\n",
    "aC = pd.read_csv(\"afterCounts.csv\")"
   ]
  },
  {
   "cell_type": "markdown",
   "metadata": {},
   "source": [
    "### `bothNames`"
   ]
  },
  {
   "cell_type": "code",
   "execution_count": null,
   "metadata": {},
   "outputs": [],
   "source": [
    "beforeNames = [name for name in bC[\"name\"]]\n",
    "afterNames = [name for name in aC[\"name\"]]\n",
    "\n",
    "bothNames = [name for name in beforeNames if name in afterNames]"
   ]
  },
  {
   "cell_type": "markdown",
   "metadata": {},
   "source": [
    "### `diffsFrame`"
   ]
  },
  {
   "cell_type": "markdown",
   "metadata": {},
   "source": [
    "beforeFilter (bF) and afterFilter (af)"
   ]
  },
  {
   "cell_type": "code",
   "execution_count": null,
   "metadata": {},
   "outputs": [],
   "source": [
    "bF = bC.loc[bC[\"name\"].isin(bothNames)].reset_index(drop=True)\n",
    "aF = aC.loc[aC[\"name\"].isin(bothNames)].reset_index(drop=True)"
   ]
  },
  {
   "cell_type": "markdown",
   "metadata": {},
   "source": [
    "Returning the CSV"
   ]
  },
  {
   "cell_type": "code",
   "execution_count": null,
   "metadata": {},
   "outputs": [],
   "source": [
    "diffs = [int(bF[\"count\"][i]) - int(aF[\"count\"][i]) for i in range(len(bF))]\n",
    "diffs\n",
    "\n",
    "diffsFrame = pd.DataFrame({\n",
    "    \"names\" : bothNames,\n",
    "    \"diffs\" : diffs\n",
    "})\n",
    "\n",
    "diffsFrame\n",
    "\n",
    "for i in range(72):\n",
    "    print(f\"{diffsFrame['names'][i]},{diffsFrame['diffs'][i]}\")"
   ]
  }
 ],
 "metadata": {
  "kernelspec": {
   "display_name": "Python 3.10.7 64-bit",
   "language": "python",
   "name": "python3"
  },
  "language_info": {
   "codemirror_mode": {
    "name": "ipython",
    "version": 3
   },
   "file_extension": ".py",
   "mimetype": "text/x-python",
   "name": "python",
   "nbconvert_exporter": "python",
   "pygments_lexer": "ipython3",
   "version": "3.10.7"
  },
  "orig_nbformat": 4,
  "vscode": {
   "interpreter": {
    "hash": "aee8b7b246df8f9039afb4144a1f6fd8d2ca17a180786b69acc140d282b71a49"
   }
  }
 },
 "nbformat": 4,
 "nbformat_minor": 2
}
